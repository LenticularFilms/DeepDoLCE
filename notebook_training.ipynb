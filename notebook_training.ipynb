{
 "cells": [
  {
   "cell_type": "code",
   "execution_count": null,
   "metadata": {},
   "outputs": [],
   "source": [
    "import torch.nn as nn\n",
    "import numpy as np\n",
    "\n",
    "import matplotlib.pyplot as plt\n",
    "%matplotlib inline\n",
    "\n",
    "from developing_suite import *"
   ]
  },
  {
   "cell_type": "code",
   "execution_count": null,
   "metadata": {},
   "outputs": [],
   "source": [
    "str_args = [\"--model=UResNetColorize\", #UResNet\", \n",
    "            \"--save-dir=./runs/\",\n",
    "            \"--save-model=last\",\n",
    "            \"--mode=train\",\n",
    "            \"--workers=8\",\n",
    "            \"--data=destriping\", #lenticular_square_patch\",\n",
    "            \"--datafolder=/path/to/the/dataset\",\n",
    "            \"--epochs=50\",\n",
    "            \"--logstep-train=10\",\n",
    "            \"--batch-size=8\",\n",
    "            \"--train-val-ratio=0.9\",\n",
    "            \"--optimizer=adam\",\n",
    "            \"--lr=0.001\",\n",
    "            \"--lr-scheduler=step\",\n",
    "            \"--lr-step=10\",\n",
    "            \"--lr-gamma=0.5\",\n",
    "            \"--loss=CE\"]\n",
    "\n",
    "args = parser.parse_args(str_args)\n",
    "developingSuite = DevelopingSuite(args)"
   ]
  },
  {
   "cell_type": "code",
   "execution_count": null,
   "metadata": {},
   "outputs": [],
   "source": [
    "developingSuite.train_and_eval()"
   ]
  },
  {
   "cell_type": "code",
   "execution_count": null,
   "metadata": {},
   "outputs": [],
   "source": []
  }
 ],
 "metadata": {
  "kernelspec": {
   "display_name": "Python 3",
   "language": "python",
   "name": "python3"
  },
  "language_info": {
   "codemirror_mode": {
    "name": "ipython",
    "version": 3
   },
   "file_extension": ".py",
   "mimetype": "text/x-python",
   "name": "python",
   "nbconvert_exporter": "python",
   "pygments_lexer": "ipython3",
   "version": "3.9.5"
  }
 },
 "nbformat": 4,
 "nbformat_minor": 4
}
