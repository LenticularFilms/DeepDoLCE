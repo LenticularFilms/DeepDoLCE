{
 "cells": [
  {
   "cell_type": "code",
   "execution_count": null,
   "metadata": {},
   "outputs": [],
   "source": [
    "import torch.nn as nn\n",
    "from PIL import Image\n",
    "import numpy as np\n",
    "\n",
    "import matplotlib.pyplot as plt\n",
    "%matplotlib inline\n",
    "\n",
    "from tqdm import tqdm_notebook as tqdm\n",
    "\n",
    "from utils.plot_utils import create_overlap\n",
    "from developing_suite import *"
   ]
  },
  {
   "cell_type": "code",
   "execution_count": null,
   "metadata": {},
   "outputs": [],
   "source": [
    "str_args = [\"--model=UResNet\", \n",
    "            \"--save-dir=./runs/\",\n",
    "            \"--save-model=last\",\n",
    "            \"--mode=train\",\n",
    "            \"--workers=10\",\n",
    "            \"--data=square_patch\",\n",
    "            \"--datafolder=./path/to/dataset\",\n",
    "            \"--epochs=50\",\n",
    "            \"--logstep-train=10\",\n",
    "            \"--batch-size=4\",\n",
    "            \"--train-val-ratio=0.9\",\n",
    "            \"--optimizer=adam\",\n",
    "            \"--lr=0.001\",\n",
    "            \"--lr-scheduler=step\",\n",
    "            \"--lr-step=10\",\n",
    "            \"--lr-gamma=0.2\",\n",
    "            \"--loss=CE\"]\n",
    "\n",
    "args = parser.parse_args(str_args)\n",
    "developingSuite = DevelopingSuite(args)"
   ]
  },
  {
   "cell_type": "code",
   "execution_count": null,
   "metadata": {},
   "outputs": [],
   "source": [
    "developingSuite.train_and_eval()"
   ]
  },
  {
   "cell_type": "code",
   "execution_count": null,
   "metadata": {},
   "outputs": [],
   "source": [
    "## visualize examples of predicted patches\n",
    "\n",
    "sample = next(iter(developingSuite.dataloaders[\"val\"]))\n",
    "sample = developingSuite.to_device(sample)\n",
    "idx = np.random.randint(0,sample[\"x\"].shape[0])\n",
    "\n",
    "developingSuite.model.eval()    \n",
    "with torch.no_grad():\n",
    "    y_pred = developingSuite.model(sample)[\"y_pred_sigmoid\"]\n",
    "\n",
    "x = sample[\"x\"].cpu().numpy()[idx].squeeze()\n",
    "y = sample[\"y\"].cpu().numpy()[idx].squeeze()\n",
    "y_pred = y_pred.cpu().detach().numpy()[idx].squeeze()\n",
    "\n",
    "\n",
    "fig, axs = plt.subplots(1, 3,figsize=(18,6))\n",
    "\n",
    "names = [\"input\",\"gt\",\"pred\"]\n",
    "for n,el in enumerate([x,y,y_pred]):\n",
    "    axs[n].imshow(el,cmap=\"gray\")\n",
    "    axs[n].set_xticks([])\n",
    "    axs[n].set_yticks([])\n",
    "    axs[n].set_title(names[n])\n",
    "    #img = Image.fromarray((255*el).astype('uint8').squeeze(), 'L')\n",
    "    #img.save(names[n]+\".png\")\n",
    "\n",
    "plt.show()\n"
   ]
  }
 ],
 "metadata": {
  "kernelspec": {
   "display_name": "PyCharm (infusion)",
   "language": "python",
   "name": "pycharm-75b85255"
  },
  "language_info": {
   "codemirror_mode": {
    "name": "ipython",
    "version": 3
   },
   "file_extension": ".py",
   "mimetype": "text/x-python",
   "name": "python",
   "nbconvert_exporter": "python",
   "pygments_lexer": "ipython3",
   "version": "3.7.6-final"
  }
 },
 "nbformat": 4,
 "nbformat_minor": 4
}
