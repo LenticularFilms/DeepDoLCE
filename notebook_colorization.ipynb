{
 "cells": [
  {
   "cell_type": "code",
   "execution_count": null,
   "metadata": {},
   "outputs": [],
   "source": [
    "import numpy as np\n",
    "import torch\n",
    "\n",
    "import matplotlib.pyplot as plt\n",
    "import matplotlib.patches as patches\n",
    "%matplotlib inline\n",
    "\n",
    "from utils.plot_utils import create_overlap\n",
    "from colorize_suite import *"
   ]
  },
  {
   "cell_type": "code",
   "execution_count": null,
   "metadata": {},
   "outputs": [],
   "source": [
    "str_args = [\"--model=UResNet\", \n",
    "            \"--model_2=UResNetColorize\",\n",
    "            \"--save-dir=./runs/\",\n",
    "            \"--resume=model_lenticule_detection.pth.tar\",\n",
    "            \"--resume_2=model_colorize.pth.tar\",\n",
    "            \"--mode=test\",\n",
    "            \"--workers=0\", \n",
    "            \"--data=lenticular_full_image\",\n",
    "            \"--datafolder=/path/to/the/dataset/\", # here you should put the path to the \n",
    "            \"--style=new_dolce\"\n",
    "            ]\n",
    "\n",
    "args = parser.parse_args(str_args)\n",
    "colorizeSuite = ColorizeSuite (args)\n",
    "\n",
    "iterator_test_dataset = iter(colorizeSuite.dataloaders[\"test\"].dataset)"
   ]
  },
  {
   "cell_type": "code",
   "execution_count": null,
   "metadata": {},
   "outputs": [],
   "source": [
    "sample = next(iterator_test_dataset)\n",
    "x = sample[\"x\"].squeeze().numpy()\n",
    "\n",
    "fig = plt.figure(figsize=(16,8))\n",
    "plt.imshow(x,cmap=\"gray\")\n",
    "plt.title(sample[\"name\"])\n",
    "plt.xticks([])\n",
    "plt.yticks([])\n",
    "plt.show()"
   ]
  },
  {
   "cell_type": "code",
   "execution_count": null,
   "metadata": {},
   "outputs": [],
   "source": [
    "\n",
    "#colorizeSuite.args.style =  \"new_dolce\"  \"interpolate\" #\"old_dolce\" #  #   \n",
    "#colorizeSuite.args.order = \"cubic\"  #\"cubic\" # \"nearest\"\n",
    "\n",
    "y,z_refined,z_orig,y_mosaic,bottom_list,top_list,y_orig = colorizeSuite.colorize_image(sample[\"x\"])"
   ]
  },
  {
   "cell_type": "code",
   "execution_count": null,
   "metadata": {},
   "outputs": [],
   "source": [
    "fig = plt.figure(figsize=(12,12))\n",
    "plt.imshow(y.squeeze().permute(1,2,0))\n",
    "plt.title(sample[\"name\"])\n",
    "plt.xticks([])\n",
    "plt.yticks([])\n",
    "plt.show()\n"
   ]
  },
  {
   "cell_type": "code",
   "execution_count": null,
   "metadata": {},
   "outputs": [],
   "source": []
  }
 ],
 "metadata": {
  "interpreter": {
   "hash": "526854b0a551cf88e7194eea0eb7a3220e5b3cf7762fb52a1bad93adc59aef29"
  },
  "kernelspec": {
   "display_name": "Python 3.9.5 64-bit ('base': conda)",
   "name": "python3"
  },
  "language_info": {
   "codemirror_mode": {
    "name": "ipython",
    "version": 3
   },
   "file_extension": ".py",
   "mimetype": "text/x-python",
   "name": "python",
   "nbconvert_exporter": "python",
   "pygments_lexer": "ipython3",
   "version": "3.9.5"
  }
 },
 "nbformat": 4,
 "nbformat_minor": 4
}
