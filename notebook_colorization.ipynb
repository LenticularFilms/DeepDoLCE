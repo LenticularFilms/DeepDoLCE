{
 "cells": [
  {
   "cell_type": "code",
   "execution_count": null,
   "metadata": {},
   "outputs": [],
   "source": [
    "import torch.nn as nn\n",
    "from PIL import Image\n",
    "import numpy as np\n",
    "\n",
    "import matplotlib.pyplot as plt\n",
    "import matplotlib.patches as patches\n",
    "%matplotlib inline\n",
    "\n",
    "from tqdm import tqdm_notebook as tqdm\n",
    "\n",
    "from utils.plot_utils import create_overlap\n",
    "from developing_suite import *"
   ]
  },
  {
   "cell_type": "code",
   "execution_count": null,
   "metadata": {},
   "outputs": [],
   "source": [
    "\n",
    "str_args = [\"--model=UResNet\", \n",
    "            \"--save-dir=./runs/\",\n",
    "            \"--resume=./model.pth.tar\",\n",
    "            \"--mode=test\",\n",
    "            \"--workers=1\",\n",
    "            \"--data=full_image\",\n",
    "            \"--datafolder=./example_dataset/\",\n",
    "            \"--batch-size=1\"]\n",
    "\n",
    "args = parser.parse_args(str_args)\n",
    "developingSuite = DevelopingSuite(args)\n",
    "\n",
    "iterator_test_dataset = iter(developingSuite.dataloaders[\"test\"].dataset)"
   ]
  },
  {
   "cell_type": "code",
   "execution_count": null,
   "metadata": {},
   "outputs": [],
   "source": [
    "sample = next(iterator_test_dataset)\n",
    "x = sample[\"x\"]\n",
    "\n",
    "fig = plt.figure(figsize=(16,8))\n",
    "plt.imshow(x.numpy().squeeze(),cmap=\"gray\") #[0:256,0:256])\n",
    "plt.title(sample[\"name\"])\n",
    "plt.xticks([])\n",
    "plt.yticks([])\n",
    "plt.show()\n"
   ]
  },
  {
   "cell_type": "code",
   "execution_count": null,
   "metadata": {
    "tags": []
   },
   "outputs": [],
   "source": [
    "y,z_rough,z,rgb_filter_image,objective_refinement = developingSuite.colorize_image(x)\n",
    "\n",
    "fig = plt.figure(figsize=(16,8))\n",
    "plt.imshow(y.squeeze().permute(1,2,0))\n",
    "plt.xticks([])\n",
    "plt.yticks([])\n",
    "plt.show()"
   ]
  },
  {
   "cell_type": "code",
   "execution_count": null,
   "metadata": {},
   "outputs": [],
   "source": [
    "# this part saves all output images\n",
    "\n",
    "img = Image.fromarray((255*x).numpy().astype('uint8').squeeze(), 'L')\n",
    "img.save(\"input\" + sample[\"name\"])\n",
    "\n",
    "img = Image.fromarray((255*z_rough).numpy().astype('uint8').squeeze(), 'L')\n",
    "img.save(\"z_rough\" + sample[\"name\"])\n",
    "\n",
    "img = Image.fromarray((255*z).numpy().astype('uint8').squeeze(), 'L')\n",
    "img.save(\"z\" + sample[\"name\"])\n",
    "\n",
    "img = Image.fromarray((255*y.squeeze().permute(1,2,0)).numpy().astype('uint8').squeeze(), 'RGB')\n",
    "img.save(\"color\" + sample[\"name\"])\n",
    "\n",
    "rgb_filter_image_z = rgb_filter_image + z\n",
    "img = Image.fromarray((255*rgb_filter_image_z.squeeze().permute(1,2,0)).numpy().astype('uint8').squeeze(), 'RGB')\n",
    "img.save(\"rgb_filter_image\" + sample[\"name\"])\n"
   ]
  },
  {
   "cell_type": "code",
   "execution_count": null,
   "metadata": {},
   "outputs": [],
   "source": [
    "range_h = 1480,1530\n",
    "range_w = 300,400\n",
    "import matplotlib.colors as mcolors\n",
    "\n",
    "plt.figure(figsize=(16,8))\n",
    "plt.imshow(x.squeeze().numpy(),cmap=\"gray\")\n",
    "plt.xticks([])\n",
    "plt.yticks([])\n",
    "rect = patches.Rectangle((range_w[0],range_h[0]),range_w[1]-range_w[0],range_h[1]-range_h[0],linewidth=1,edgecolor='r',facecolor='none')\n",
    "ax = plt.gca()\n",
    "ax.add_patch(rect)\n",
    "plt.show()\n",
    "\n",
    "\n",
    "plt.figure(figsize=(12,4))\n",
    "plt.plot(np.mean(x.squeeze().numpy()[range_h[0]:range_h[1],range_w[0]:range_w[1]],axis=0),\"-\",color=\"tab:grey\",label=\"grayscale input image\") \n",
    "plt.plot(np.mean(rgb_filter_image.squeeze()[0].numpy()[range_h[0]:range_h[1],range_w[0]:range_w[1]],axis=0),\"o-\",color=\"tab:red\",label = \"red\")\n",
    "plt.plot(np.mean(rgb_filter_image.squeeze()[1].numpy()[range_h[0]:range_h[1],range_w[0]:range_w[1]],axis=0),\"o-\",color=\"tab:green\", label = \"green\")\n",
    "plt.plot(np.mean(rgb_filter_image.squeeze()[2].numpy()[range_h[0]:range_h[1],range_w[0]:range_w[1]],axis=0),\"o-\",color=\"tab:blue\",label= \"blue\")\n",
    "plt.plot(np.mean(z.squeeze().numpy()[range_h[0]:range_h[1],range_w[0]:range_w[1]],axis=0),\"o-\",color=\"k\",label=\"lenticule boundary (z)\")\n",
    "plt.legend()\n",
    "plt.show()"
   ]
  }
 ],
 "metadata": {
  "kernelspec": {
   "display_name": "Python 3.7.6 64-bit ('base': conda)",
   "metadata": {
    "interpreter": {
     "hash": "5af64ec6bf0a22ef2a2aa37a270c4649c0c10b0b42b56fb75772408e22cafe2d"
    }
   },
   "name": "python3"
  },
  "language_info": {
   "codemirror_mode": {
    "name": "ipython",
    "version": 3
   },
   "file_extension": ".py",
   "mimetype": "text/x-python",
   "name": "python",
   "nbconvert_exporter": "python",
   "pygments_lexer": "ipython3",
   "version": "3.7.6-final"
  }
 },
 "nbformat": 4,
 "nbformat_minor": 4
}
